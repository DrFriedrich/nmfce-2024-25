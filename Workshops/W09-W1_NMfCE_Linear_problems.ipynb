{
 "cells": [
  {
   "cell_type": "markdown",
   "id": "f9357af5-16bf-49dc-945c-b70582eb2059",
   "metadata": {},
   "source": [
    "# W09-W1: Manual solution of linear optimisation problems\n",
    "\n",
    "---\n",
    "\n",
    "**Note:** The problems may not seem fully specified: you must make and state any assumptions required. For all of them, however, sketches/diagrams, variable definitions and mathematical analysis are expected.\n",
    "\n",
    "#### Displaying solutions\n",
    "\n",
    "Solutions will be released after the workshop, as a new `.txt` file in the same GitHub repository. After pulling the file to Noteable, **run the following cell** to create clickable buttons under each exercise, which will allow you to reveal the solutions."
   ]
  },
  {
   "cell_type": "code",
   "execution_count": null,
   "id": "7cb57cd7-b33f-463d-be1d-862a7481ed5b",
   "metadata": {},
   "outputs": [],
   "source": [
    "%run scripts/create_widgets.py W09-W1"
   ]
  },
  {
   "cell_type": "markdown",
   "id": "49332904-e319-41c9-b6bf-6f1457a9b2e2",
   "metadata": {},
   "source": [
    "## Part a) \n",
    "\n",
    "Of all the rectangles of equal perimeter, which has the largest surface area? Prove it!"
   ]
  },
  {
   "cell_type": "markdown",
   "id": "be119406-3176-45a7-ba5c-8991c7acffd5",
   "metadata": {},
   "source": []
  },
  {
   "cell_type": "code",
   "execution_count": null,
   "id": "bf2d304a-89f3-4ac6-962c-9f828b9c68c4",
   "metadata": {},
   "outputs": [],
   "source": [
    "%run scripts/show_solutions.py W09-W1_parta"
   ]
  },
  {
   "cell_type": "markdown",
   "id": "444adf9f-f4b9-482e-a03e-4b142ce6c4b4",
   "metadata": {},
   "source": [
    "## Part b) \n",
    "\n",
    "Of all the rectangles of equal surface area, which has the smallest perimeter? Prove it!"
   ]
  },
  {
   "cell_type": "markdown",
   "id": "002afe05-12c1-4874-8155-368406a639f9",
   "metadata": {},
   "source": []
  },
  {
   "cell_type": "code",
   "execution_count": null,
   "id": "9c6570eb-78e3-47ab-8ee8-2da26899c28f",
   "metadata": {},
   "outputs": [],
   "source": [
    "%run scripts/show_solutions.py W09-W1_partb"
   ]
  },
  {
   "cell_type": "markdown",
   "id": "b753cfec-06f3-4fc6-b919-2dcc30a1dd58",
   "metadata": {},
   "source": [
    "## Part c) \n",
    "\n",
    "Of all the parallelepipeds of equal total external surface area, which has the largest volume?\n",
    "\n",
    "Can you prove it?"
   ]
  },
  {
   "cell_type": "code",
   "execution_count": null,
   "id": "4e5ff7bb-dd66-4429-befd-f9c6a5b83f9b",
   "metadata": {},
   "outputs": [],
   "source": [
    "from IPython.display import SVG, display\n",
    "display(SVG(url='https://upload.wikimedia.org/wikipedia/commons/3/31/Parallelepiped-bf.svg'))\n",
    "display(\"By Ag2gaeh - Own work, CC BY-SA 4.0, https://commons.wikimedia.org/w/index.php?curid=119762942\")"
   ]
  },
  {
   "cell_type": "markdown",
   "id": "8a624490-4ad4-4c9f-8915-b573165500ac",
   "metadata": {},
   "source": []
  },
  {
   "cell_type": "code",
   "execution_count": null,
   "id": "d28c92b8-959c-4469-90f6-d28c5ac8475f",
   "metadata": {},
   "outputs": [],
   "source": [
    "%run scripts/show_solutions.py W09-W1_partc"
   ]
  },
  {
   "cell_type": "markdown",
   "id": "1318306e-b934-4801-8bfb-34d7fae55f16",
   "metadata": {},
   "source": [
    "## Part d) \n",
    "\n",
    "Of all the parallelepipeds of equal volume, which has the smallest total external surface area?\n",
    "\n",
    "Can you prove it?"
   ]
  },
  {
   "cell_type": "markdown",
   "id": "f0ecb0ff-beff-4c8e-8ef2-6e9cefefe748",
   "metadata": {},
   "source": []
  },
  {
   "cell_type": "code",
   "execution_count": null,
   "id": "1fb2caf2-5f28-4bfa-b647-bff1906315af",
   "metadata": {},
   "outputs": [],
   "source": [
    "%run scripts/show_solutions.py W09-W1_partd"
   ]
  },
  {
   "cell_type": "markdown",
   "id": "70f5cbc2-bafa-4e08-a2db-47b25400605d",
   "metadata": {},
   "source": [
    "## Part e)\n",
    "\n",
    "Based on the previous two parts, which open-top cylindrical storage vessels has the best (most economical) dimensions?\n",
    "\n",
    "Can you prove it?\n",
    "\n",
    "**Remark**: This and the next part may not seem fully specified: you must make and state any assumptions required. For both of them, however, sketches/diagrams, variable definitions and mathematical analysis are expected."
   ]
  },
  {
   "cell_type": "markdown",
   "id": "ec821ad5-71ed-448d-a93b-fb329e2a19eb",
   "metadata": {},
   "source": []
  },
  {
   "cell_type": "markdown",
   "id": "541b64b1-a6c2-4ad4-90ec-d47709d77167",
   "metadata": {},
   "source": [
    "## Part f)\n",
    "\n",
    "Of all the possible gas tank configurations, which is the best (most economical) shape?\n",
    "\n",
    "Can you prove it?"
   ]
  },
  {
   "cell_type": "markdown",
   "id": "9974972e-1bd2-42ee-8d6d-e92988e709ae",
   "metadata": {},
   "source": []
  },
  {
   "cell_type": "code",
   "execution_count": null,
   "id": "eb619e52-f964-4a4c-9cde-cc25aec69806",
   "metadata": {},
   "outputs": [],
   "source": [
    "%run scripts/show_solutions.py W09-W1_partf"
   ]
  },
  {
   "cell_type": "code",
   "execution_count": null,
   "id": "cd5ee556-41b3-4b97-8b25-85d6e48e7608",
   "metadata": {},
   "outputs": [],
   "source": []
  }
 ],
 "metadata": {
  "kernelspec": {
   "display_name": "Python 3 (ipykernel)",
   "language": "python",
   "name": "python3"
  },
  "language_info": {
   "codemirror_mode": {
    "name": "ipython",
    "version": 3
   },
   "file_extension": ".py",
   "mimetype": "text/x-python",
   "name": "python",
   "nbconvert_exporter": "python",
   "pygments_lexer": "ipython3",
   "version": "3.12.6"
  }
 },
 "nbformat": 4,
 "nbformat_minor": 5
}
