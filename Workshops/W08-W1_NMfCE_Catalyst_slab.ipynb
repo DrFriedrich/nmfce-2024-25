{
 "cells": [
  {
   "cell_type": "markdown",
   "id": "026e6a0d",
   "metadata": {},
   "source": [
    "# W08-W1: Catalyst slab\n",
    "\n",
    "---\n",
    "\n",
    "We consider reaction and diffusion of a species A in a thin catalyst slab of thickness $h$. Inside the slab, the concentration $c_A$ of A is governed by a diffusion equation with a second order reaction source term $r$.\n",
    "$$\n",
    "\\frac{\\partial c_A}{\\partial t} = D \\frac{\\partial^2 c_A}{\\partial x^2} - r(c_A) = D \\frac{\\partial^2 c_A}{\\partial x^2} - k c_A^2\n",
    "$$\n",
    "The catalyst slab is in contact with a gas phase, with a partial pressure of A of $p_A$. \n",
    "\n",
    "At the solid-gas interfaces at $x=\\pm h/2$, the local concentration of A in the slab is in equilibrium with the gas phase with equilibrium constant $K_A$. This provides the following boundary conditions\n",
    "\\[\n",
    "c_A(h/2) = c_A(-h/2) = K_A p_A = c_{A,s}\n",
    "\\]\n",
    "\n",
    "Initially the concentration is zero in the catalyst slab.\n",
    "\n",
    "<img src=\"figures/catalyst_slab.png\" alt=\"Sketch of the catalyst slab\" width=\"200\"/>\n"
   ]
  },
  {
   "cell_type": "markdown",
   "id": "42d9a2f7",
   "metadata": {},
   "source": [
    "We have converted this problem to nondimensional form during the lecture. Briefly, we choose the gas phase concentration $c_{A,s}$ as the characteristic value for the concentration $c_A$, the thickness $h$ of the slab as the characteristic value for $x$ and the diffusional time constant $h^2/D$ as the characteristic value for $t$. \n",
    "\n",
    "This gives us the three equations\n",
    "\\begin{align*}\n",
    " c_A &= c_{A,s} \\tilde{c}_A \\\\\n",
    " x &= h \\xi \\\\\n",
    " t &= \\frac{h^2}{D} \\tau\n",
    "\\end{align*}\n",
    "with the nondimensional concentration $\\tilde{c}_A$, the nondimensional distance $\\xi$ and non-dimensional time $\\tau$.\n",
    "\n",
    "Using these nondimensionalisations in the differential equations leads to\n",
    "$$\n",
    "\\frac{c_{A,s} D}{h^2}\\frac{\\partial \\tilde{c}_A}{\\partial \\tau} = \\frac{D c_{A,s}}{h^2} \\frac{d^2 \\tilde{c}_A}{d\\xi^2} - k c_{A,s}^2 \\tilde{c}_A^2\n",
    "$$\n",
    "which we can rearrange to\n",
    "$$\n",
    "\\frac{\\partial \\tilde{c}_A}{\\partial \\tau} = \\frac{d^2 \\tilde{c}_A}{d\\xi^2} - \\frac{h^2 k c_{A,s}}{D}\\tilde{c}_A^2 = \\frac{d^2 \\tilde{c}_A}{d\\xi^2} - \\phi\\tilde{c}_A^2\n",
    "$$\n",
    "so that the differential equation depends only on one nondimensional parameter $\\phi=\\frac{h^2 k c_{A,s}}{D}$. "
   ]
  },
  {
   "cell_type": "markdown",
   "id": "36221d0e",
   "metadata": {},
   "source": [
    "#### Displaying solutions\n",
    "\n",
    "Solutions will be released after the workshop, as a new `.txt` file in the same GitHub repository. After pulling the file to Noteable, **run the following cell** to create clickable buttons under each exercise, which will allow you to reveal the solutions."
   ]
  },
  {
   "cell_type": "code",
   "execution_count": null,
   "id": "8619bea3",
   "metadata": {},
   "outputs": [],
   "source": [
    "%run scripts/create_widgets.py W08-W1"
   ]
  },
  {
   "cell_type": "markdown",
   "id": "e55d3232",
   "metadata": {},
   "source": [
    "## Part a)\n",
    "\n",
    "Use the finite difference approximation of the second derivative\n",
    "$$\n",
    "\\frac{\\partial^2 c_i}{\\partial z^2} = \\frac{c_{i+1} - 2 c_i + c_{i-1}}{(\\Delta z)^2}\n",
    "$$\n",
    "where $(\\Delta z)$ is the spacing between grid points to transform this boundary value problem into a nonlinear differential equation system.\n",
    "\n",
    "This will approximate the continuous function by the value of $\\tilde{c}_A$ at the $n$ discrete grid points $\\xi_i$ for $i=0,1,2, \\dots, n-1$. At these points the concentration is given by $\\tilde{c}_{A,i}$ for $i=0,1,2, \\dots, n-1$."
   ]
  },
  {
   "cell_type": "markdown",
   "id": "41dbc382",
   "metadata": {},
   "source": []
  },
  {
   "cell_type": "code",
   "execution_count": null,
   "id": "082da1a4",
   "metadata": {},
   "outputs": [],
   "source": [
    "%run scripts/show_solutions.py W08-W1_parta"
   ]
  },
  {
   "cell_type": "markdown",
   "id": "e05dba68",
   "metadata": {},
   "source": [
    "## Part b)\n",
    "\n",
    "Consider first the steady-state problem, i.e. the time derivative $\\partial \\tilde{c}_{A,i}/\\partial \\tau = 0$. Develop a Python function that returns the right hand side of the discretised problem from an input of $\\tilde{c}_{A,i}$, $\\Delta \\xi$ and $\\phi$.\n",
    "\n",
    "**Remark:** The test assumes that the boundary conditions are part of the right hand side, i.e. dc[0] = c[0] - 1."
   ]
  },
  {
   "cell_type": "code",
   "execution_count": null,
   "id": "1971c3fb",
   "metadata": {},
   "outputs": [],
   "source": []
  },
  {
   "cell_type": "code",
   "execution_count": null,
   "id": "79a077b1",
   "metadata": {},
   "outputs": [],
   "source": [
    "# Your function should pass the following test\n",
    "import numpy as np\n",
    "c = 2 * np.zeros(4)\n",
    "np.testing.assert_array_almost_equal(catalyst_slab_steady(c, 0.1, 1), \n",
    "                                     np.array([1, 0, 0, 1]), decimal=6)"
   ]
  },
  {
   "cell_type": "code",
   "execution_count": null,
   "id": "6e22b4d2",
   "metadata": {},
   "outputs": [],
   "source": [
    "%run scripts/show_solutions.py W08-W1_partb"
   ]
  },
  {
   "cell_type": "markdown",
   "id": "0bd77bc7",
   "metadata": {},
   "source": [
    "## Part c)\n",
    "\n",
    "Solve the nonlinear algebraic equation system for $\\phi=1$ and $n=5$. Double the number of grid points, solve again and compare with the previous solution. Continue until you no longer see a significant difference between two subsequent solutions. You can solve the nonlinear algebraic equation system with [`scipy.optimize.fsolve`](https://docs.scipy.org/doc/scipy/reference/generated/scipy.optimize.fsolve.html).\n",
    "\n",
    "*Remark:* The easiest way to look for differences is to plot the solutions for different values of $n$."
   ]
  },
  {
   "cell_type": "code",
   "execution_count": null,
   "id": "f52a70ad",
   "metadata": {},
   "outputs": [],
   "source": []
  },
  {
   "cell_type": "code",
   "execution_count": null,
   "id": "4d0ad174",
   "metadata": {},
   "outputs": [],
   "source": [
    "%run scripts/show_solutions.py W08-W1_partc"
   ]
  },
  {
   "cell_type": "markdown",
   "id": "53f4788f",
   "metadata": {},
   "source": [
    "## Part d)\n",
    "\n",
    "Fix the number of grid points and solve the system for values of $\\phi$ between 0.1 and 200."
   ]
  },
  {
   "cell_type": "code",
   "execution_count": null,
   "id": "4850276b",
   "metadata": {
    "scrolled": true
   },
   "outputs": [],
   "source": []
  },
  {
   "cell_type": "code",
   "execution_count": null,
   "id": "af8c3ce1",
   "metadata": {},
   "outputs": [],
   "source": [
    "%run scripts/show_solutions.py W08-W1_partd"
   ]
  },
  {
   "cell_type": "markdown",
   "id": "c79e335a",
   "metadata": {},
   "source": [
    "## Part e)\n",
    "\n",
    "Consider now the transient problem, i.e. give the time evolution of the concentration. Solve the system of differential or differential-algebraic equations with the method of lines approach. Use the boundary conditions defined above and a zero initial condition across the catalyst slab.\n",
    "\n",
    "You can solve the system as a pure ODE system. For this you have to fix the values at the boundaries and not include them in the calculations. \n",
    "\n",
    "You will need to perform the following two steps:\n",
    "1. Define a new transient right hand side; this will be very similar to the steady state one\n",
    "2. Use an initial value problem solver on it.\n",
    "\n",
    "For the case as a pure ODE system we re-define the boundary conditions as\n",
    "\\begin{align*}\n",
    "\\frac{\\partial \\tilde{c}_{A,i}}{\\partial \\tau} &= 1 - \\tilde{c}_{A,i}\n",
    "\\end{align*}\n",
    "for $i=0$ and $i=n-1$. Alternatively, we could keep the boundary conditions above but then we would need to change the right hand side function to operate only on the internal values."
   ]
  },
  {
   "cell_type": "code",
   "execution_count": null,
   "id": "a2196123",
   "metadata": {},
   "outputs": [],
   "source": []
  },
  {
   "cell_type": "code",
   "execution_count": null,
   "id": "c4ee1b2a",
   "metadata": {},
   "outputs": [],
   "source": [
    "%run scripts/show_solutions.py W08-W1_parte"
   ]
  },
  {
   "cell_type": "markdown",
   "id": "38278a3b",
   "metadata": {},
   "source": [
    "## Bonus part\n",
    "\n",
    "Consider the equations at the boundaries as algebraic equations inside the right hand side function. You will need to look up differential-algebraic equation (DAE) systems and solvers."
   ]
  },
  {
   "cell_type": "code",
   "execution_count": null,
   "id": "f1731ed9",
   "metadata": {},
   "outputs": [],
   "source": []
  }
 ],
 "metadata": {
  "kernelspec": {
   "display_name": "Python 3 (ipykernel)",
   "language": "python",
   "name": "python3"
  },
  "language_info": {
   "codemirror_mode": {
    "name": "ipython",
    "version": 3
   },
   "file_extension": ".py",
   "mimetype": "text/x-python",
   "name": "python",
   "nbconvert_exporter": "python",
   "pygments_lexer": "ipython3",
   "version": "3.12.6"
  }
 },
 "nbformat": 4,
 "nbformat_minor": 5
}
