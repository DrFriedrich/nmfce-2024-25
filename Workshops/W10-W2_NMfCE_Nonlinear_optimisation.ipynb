{
 "cells": [
  {
   "cell_type": "markdown",
   "id": "6fe2d24f",
   "metadata": {},
   "source": [
    "# W10-W2: Nonlinear optimisation\n",
    "\n",
    "In this worksheet we are defining a nonlinear optimisation problem that aims to maximise the volume of a box under an equality constraint for the surface area.\n",
    "\n",
    "---\n",
    "\n",
    "#### Displaying solutions\n",
    "\n",
    "Solutions will be released after the workshop, as a new `.txt` file in the same GitHub repository. After pulling the file to Noteable, **run the following cell** to create clickable buttons under each exercise, which will allow you to reveal the solutions."
   ]
  },
  {
   "cell_type": "code",
   "execution_count": null,
   "id": "43c09554",
   "metadata": {},
   "outputs": [],
   "source": [
    "%run scripts/create_widgets.py W10-W2"
   ]
  },
  {
   "cell_type": "markdown",
   "id": "858469be",
   "metadata": {},
   "source": [
    "## Part a) \n",
    "\n",
    "Define a function to calculate and return the volume of a rectangular prism, also called a box. The dimensions should be passed as a single array or list in the order: length, width and height."
   ]
  },
  {
   "cell_type": "code",
   "execution_count": null,
   "id": "dde52119",
   "metadata": {},
   "outputs": [],
   "source": []
  },
  {
   "cell_type": "code",
   "execution_count": null,
   "id": "c6998cef",
   "metadata": {},
   "outputs": [],
   "source": [
    "%run scripts/show_solutions.py W10-W2_parta"
   ]
  },
  {
   "cell_type": "markdown",
   "id": "c4231b30",
   "metadata": {},
   "source": [
    "## Part b) \n",
    "\n",
    "Define a function to calculate and return the surface area of a rectangular prism, also called a box. The dimensions should be passed as a single array or list in the order: length, width and height."
   ]
  },
  {
   "cell_type": "code",
   "execution_count": null,
   "id": "9823ac4c",
   "metadata": {},
   "outputs": [],
   "source": []
  },
  {
   "cell_type": "code",
   "execution_count": null,
   "id": "67e96e46",
   "metadata": {},
   "outputs": [],
   "source": [
    "%run scripts/show_solutions.py W10-W2_partb"
   ]
  },
  {
   "cell_type": "markdown",
   "id": "4d75f6c5",
   "metadata": {},
   "source": [
    "## Part c) \n",
    "\n",
    "Define a nonlinear optimisation problem to maximise the volume under the constraint that the surface area is equal to 10."
   ]
  },
  {
   "cell_type": "code",
   "execution_count": null,
   "id": "0116728b",
   "metadata": {},
   "outputs": [],
   "source": []
  },
  {
   "cell_type": "code",
   "execution_count": null,
   "id": "0cca30b2",
   "metadata": {},
   "outputs": [],
   "source": [
    "%run scripts/show_solutions.py W10-W2_partc"
   ]
  },
  {
   "cell_type": "code",
   "execution_count": null,
   "id": "d7257399-5ee7-43f4-b6d1-30e9ba60a47c",
   "metadata": {},
   "outputs": [],
   "source": []
  }
 ],
 "metadata": {
  "kernelspec": {
   "display_name": "Python 3 (ipykernel)",
   "language": "python",
   "name": "python3"
  },
  "language_info": {
   "codemirror_mode": {
    "name": "ipython",
    "version": 3
   },
   "file_extension": ".py",
   "mimetype": "text/x-python",
   "name": "python",
   "nbconvert_exporter": "python",
   "pygments_lexer": "ipython3",
   "version": "3.12.6"
  }
 },
 "nbformat": 4,
 "nbformat_minor": 5
}
