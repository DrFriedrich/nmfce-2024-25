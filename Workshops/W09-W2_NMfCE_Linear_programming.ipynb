{
 "cells": [
  {
   "cell_type": "markdown",
   "id": "c1332f0d",
   "metadata": {},
   "source": [
    "# W09-W2: Linear programming \n",
    "\n",
    "---\n",
    "\n",
    "#### Displaying solutions\n",
    "\n",
    "Solutions will be released after the workshop, as a new `.txt` file in the same GitHub repository. After pulling the file to Noteable, **run the following cell** to create clickable buttons under each exercise, which will allow you to reveal the solutions."
   ]
  },
  {
   "cell_type": "code",
   "execution_count": null,
   "id": "fdc5619a",
   "metadata": {},
   "outputs": [],
   "source": [
    "%run scripts/create_widgets.py W09-W2"
   ]
  },
  {
   "cell_type": "markdown",
   "id": "db11dfc9",
   "metadata": {},
   "source": [
    "## Part a) Linear programming example notebook\n",
    "\n",
    "Work through the Linear_programming.ipynb:\n",
    "- Change the constraints\n",
    "- Evaluate different price combinations"
   ]
  },
  {
   "cell_type": "markdown",
   "id": "aafcaddc",
   "metadata": {},
   "source": [
    "## Diet problem\n",
    "\n",
    "There are $m$ diﬀerent types of food, $F_1, \\dots, F_m$, that supply varying quantities of the $n$ nutrients, $N_1, \\dots, N_n$, that are essential to good health. Let $c_j$ be the minimum daily requirement of nutrient, $N_j$. Let $b_i$ be the price per unit of food, $F_i$. Let $a_{ij}$ be the amount of nutrient $N_j$ contained in one unit of food $F_i$.\n",
    "\n",
    "The problem is to supply the required nutrients at minimum cost."
   ]
  },
  {
   "cell_type": "markdown",
   "id": "fcbf975e-b85f-479e-8583-a247fbb456b0",
   "metadata": {},
   "source": [
    "Let $y_i$ be the number of units of food $F_i$ to be purchased per day. The cost per day of such a diet is\n",
    "$$b_1 y_1 + b_2 y_2 + \\cdots + b_m y_m$$\n",
    "\n",
    "The amount of nutrient $N_j$ contained in this diet is\n",
    "$$a_{1j} y_1 + a_{2j} y_2 + \\cdots + a_{mj} y_m$$\n",
    "or $j = 1, \\dots, n$. \n",
    "\n",
    "We do not consider such a diet unless all the minimum daily requirements are met, that is, unless\n",
    "$$a_{1j} y_1 + a_{2j} y_2 + \\cdots + a_{mj} y_m \\ge c_j$$\n",
    "for $j = 1,\\dots, n$. \n",
    "\n",
    "Of course, we cannot purchase a negative amount of food, so we automatically have the\n",
    "constraints\n",
    "$$y_1 \\ge 0, y_2 \\ge 0, \\dots, y_m\\ge 0$$\n",
    "\n",
    "Our problem is: minimise the cost subject to the constraints. This is exactly the standard minimum problem."
   ]
  },
  {
   "cell_type": "markdown",
   "id": "10891279",
   "metadata": {},
   "source": [
    "## Part b) \n",
    "\n",
    "Find some data for a diet problem, e.g. protein from beef or soy or calories and vitamin A from different foods."
   ]
  },
  {
   "cell_type": "code",
   "execution_count": null,
   "id": "70befcb5-2248-4041-81db-a1a0f64e576e",
   "metadata": {},
   "outputs": [],
   "source": []
  },
  {
   "cell_type": "code",
   "execution_count": null,
   "id": "382eaee0-2212-4e29-94da-0afdabe46e0f",
   "metadata": {},
   "outputs": [],
   "source": [
    "%run scripts/show_solutions.py W09-W2_partb"
   ]
  },
  {
   "cell_type": "markdown",
   "id": "606e6e49-6771-4c24-a464-fa147c42eabd",
   "metadata": {},
   "source": [
    "## Part c)\n",
    "\n",
    "Set up and solve the Linear Programming problem for your diet problem"
   ]
  },
  {
   "cell_type": "code",
   "execution_count": null,
   "id": "734473da-862a-4726-9a35-fc716166dc55",
   "metadata": {},
   "outputs": [],
   "source": []
  },
  {
   "cell_type": "code",
   "execution_count": null,
   "id": "bd92b6bd-6d3f-47ac-9fa5-bb0913c1a6b2",
   "metadata": {},
   "outputs": [],
   "source": [
    "%run scripts/show_solutions.py W09-W2_partc"
   ]
  },
  {
   "cell_type": "code",
   "execution_count": null,
   "id": "7f74d78d-5b6c-4301-9be8-8848c85234ba",
   "metadata": {},
   "outputs": [],
   "source": []
  }
 ],
 "metadata": {
  "kernelspec": {
   "display_name": "Python 3 (ipykernel)",
   "language": "python",
   "name": "python3"
  },
  "language_info": {
   "codemirror_mode": {
    "name": "ipython",
    "version": 3
   },
   "file_extension": ".py",
   "mimetype": "text/x-python",
   "name": "python",
   "nbconvert_exporter": "python",
   "pygments_lexer": "ipython3",
   "version": "3.12.6"
  }
 },
 "nbformat": 4,
 "nbformat_minor": 5
}
