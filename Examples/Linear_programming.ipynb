{
 "cells": [
  {
   "cell_type": "markdown",
   "id": "c1332f0d",
   "metadata": {},
   "source": [
    "# Linear programming\n",
    "\n",
    "---\n"
   ]
  },
  {
   "cell_type": "markdown",
   "id": "db11dfc9",
   "metadata": {},
   "source": [
    "## Albatrosses and bears\n",
    "\n",
    "A toy factory produces two types of soft toys: albatrosses, for the adventurous children, and for more traditional customers, bears. If we imagine the factory creates A hundred albatrosses and B hundred bears per day, the company must find the A and B values for maximum profit.\n",
    "\n",
    "<img src=\"figures/Albatrosses_and_bears.png\" alt=\"Image of an albatross and a bear\" width=\"400\"/>\n",
    "\n",
    "**Albatrosses and bears -- how many should the factory produce daily?**"
   ]
  },
  {
   "cell_type": "markdown",
   "id": "aafcaddc",
   "metadata": {},
   "source": [
    "## Data\n",
    "\n",
    "- The price for an albatros is double the price of a bear.\n",
    "- The resources needed to construct each of the toys are important: We assume for simplicity that each toy is constructed in two steps: first, it is stitched on the sewing machine, and then it is filled on the stuffing machine. \n",
    "- Because the toys are different shapes, these tasks require different lengths of time:\n",
    "    - 100 albatrosses require 1 hour for stitching and 2 hours for stuffing\n",
    "    - 100 bears require 3 hours for stitching and 1 hour for stuffing. \n",
    "- The availability of machines is limited:\n",
    "    - The stitching machine is available 9 hours per day\n",
    "    - The mechanical stuffer is only available for 8 hours per day (e.g. because it takes longer to set up and refill). "
   ]
  },
  {
   "cell_type": "markdown",
   "id": "10891279",
   "metadata": {},
   "source": [
    "## Part a) \n",
    "\n",
    "Discuss the setup of the optimisation problem. Write down the equations and inequality constraints required for the optimisation."
   ]
  },
  {
   "cell_type": "markdown",
   "id": "25aede8b",
   "metadata": {},
   "source": [
    "The optimisation problem can be written as\n",
    "\\begin{align*}\n",
    "\\max_{x} c^T x & \\\\\n",
    "\\text{such that} & \\\\\n",
    "A_{ub} x &\\le b_{ub} \\\\\n",
    "l \\le x & \\le u\n",
    "\\end{align*}\n",
    "where $x=[A, B]$ is the vector of the quantities of albatrosses and bears, $A_{ub}$ is the inequality constraint matrix, $b_{ub}$ is the right hand side of the inequality constraints, and $l$ and $u$ are the lower and upper boundaries of $x$, respectively.\n",
    "\n",
    "The vector $c$ is given by\n",
    "$$c = \\begin{bmatrix}\n",
    "-2 \\\\\n",
    "-1\n",
    "\\end{bmatrix},\n",
    "$$\n",
    "the inequality constraint matrix is given by\n",
    "$$A_{ub} = \n",
    "\\begin{bmatrix}\n",
    "1 & 3 \\\\\n",
    "2 & 1\n",
    "\\end{bmatrix}, \n",
    "$$\n",
    "the right hand side is given by\n",
    "$$b_{ub} = \\begin{bmatrix}\n",
    "9 \\\\\n",
    "8\n",
    "\\end{bmatrix},\n",
    "$$\n",
    "and the lower bounds are both 0 while the upper bounds aren't defined."
   ]
  },
  {
   "cell_type": "code",
   "execution_count": null,
   "id": "c87ac8c4",
   "metadata": {},
   "outputs": [],
   "source": [
    "import numpy as np\n",
    "import matplotlib.pyplot as plt\n",
    "\n",
    "xx = np.linspace(0, 4.5)\n",
    "y_stitch = 3 - 1/3 * xx\n",
    "y_stuff = 8 - 2*xx\n",
    "\n",
    "# Corners of the feasible region\n",
    "x = [0, 0, 3, 4]\n",
    "y = [0, 3, 2, 0]\n",
    "plt.fill(x, y, \"c\")\n",
    "plt.text(0.75, 1, \"Feasible region\", color='black',fontsize=18)\n",
    "\n",
    "plt.plot(xx, y_stitch, \"b\")\n",
    "plt.text(0.5, 3, \"Stitching constraint\", color='black',fontsize=14, rotation=-18, rotation_mode='anchor',\n",
    "              transform_rotates_text=True)\n",
    "\n",
    "plt.plot(xx, y_stuff, \"r\")\n",
    "plt.text(2.05, 4.2, \"Stuffing constraint\", color='black',fontsize=14, rotation=-63, rotation_mode='anchor',\n",
    "              transform_rotates_text=True)\n",
    "\n",
    "plt.xlabel(\"Albatrosses\", fontsize=\"16\")\n",
    "plt.ylabel(\"Bears\", fontsize=\"16\")\n",
    "plt.xlim([0, 4.5])\n",
    "plt.ylim([0, 4.5])\n",
    "plt.show()"
   ]
  },
  {
   "cell_type": "markdown",
   "id": "e448a236",
   "metadata": {},
   "source": [
    "## Part b)\n",
    "\n",
    "Learn how to translate the optimisation problem into a Python programme with [scipy.optimize.linprog](https://docs.scipy.org/doc/scipy/reference/generated/scipy.optimize.linprog.html)"
   ]
  },
  {
   "cell_type": "markdown",
   "id": "3f4e4142",
   "metadata": {},
   "source": [
    "## Part c)\n",
    "\n",
    "Find the daily quantities of toys that must be produced every day, to maximise profit."
   ]
  },
  {
   "cell_type": "code",
   "execution_count": null,
   "id": "46d93ab9",
   "metadata": {},
   "outputs": [],
   "source": [
    "# We need to use negative values because we want to maximise the profit\n",
    "c = [-2, -1]\n",
    "\n",
    "# Array with the parameters for inequality constraint matrix\n",
    "A = [[1, 3], [2, 1]]\n",
    "\n",
    "# Right hand side of the inequality constraints\n",
    "b = [9, 8]\n",
    "\n",
    "# Bounds for the number of toys\n",
    "x0_bounds = (0, None)\n",
    "x1_bounds = (0, None)\n",
    "\n",
    "# Use scipy.optimize.linprog to solve the optimisation\n",
    "from scipy.optimize import linprog\n",
    "res = linprog(c, A_ub=A, b_ub=b, bounds=[x0_bounds, x1_bounds])\n",
    "print(res)"
   ]
  },
  {
   "cell_type": "markdown",
   "id": "93b3ba6d",
   "metadata": {},
   "source": [
    "## Part d)\n",
    "\n",
    "Investigate how relative price changes for the toys affect the optimal production."
   ]
  },
  {
   "cell_type": "code",
   "execution_count": null,
   "id": "d3514960",
   "metadata": {},
   "outputs": [],
   "source": [
    "c = [-0.3, -1]\n",
    "res = linprog(c, A_ub=A, b_ub=b, bounds=[x0_bounds, x1_bounds])\n",
    "print(res)"
   ]
  },
  {
   "cell_type": "code",
   "execution_count": null,
   "id": "d9ff5c6f",
   "metadata": {},
   "outputs": [],
   "source": []
  }
 ],
 "metadata": {
  "kernelspec": {
   "display_name": "Python 3 (ipykernel)",
   "language": "python",
   "name": "python3"
  },
  "language_info": {
   "codemirror_mode": {
    "name": "ipython",
    "version": 3
   },
   "file_extension": ".py",
   "mimetype": "text/x-python",
   "name": "python",
   "nbconvert_exporter": "python",
   "pygments_lexer": "ipython3",
   "version": "3.9.7"
  }
 },
 "nbformat": 4,
 "nbformat_minor": 5
}
