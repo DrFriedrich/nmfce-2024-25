{
 "cells": [
  {
   "cell_type": "markdown",
   "id": "5949fae7",
   "metadata": {},
   "source": [
    "# CSTR \n",
    "---\n",
    "\n",
    "Consider a CSTR (Continuously stirred tank reactor)\n",
    "\n",
    "<img src=\"figures/CSTR_empty.png\" alt=\"Schematic of a CSTR\" width=\"200\"/>\n",
    "\n",
    "in which the following reactions are taking place\n",
    "\\begin{align*}\n",
    " A+B\\to C & \\quad\\text{with } r_{AB} = k_1 c_A c_B \\\\\n",
    " C+B\\to D & \\quad\\text{with } r_{CB} = k_2 c_C c_B \\\\\n",
    " A \\to E & \\quad\\text{with } r_{A} = k_3 c_A\n",
    "\\end{align*}\n",
    "\n",
    "The kinetic data is known at two temperatures\n",
    "$$\n",
    "\\begin{aligned}\n",
    "& \\text {Table with kinetic data at two temperatures}\\\\\n",
    "&\\begin{array}{c|c|c|c}\n",
    "  & T=298\\,K & T=315\\,K & Units \\\\ \n",
    "\\hline\n",
    "k_1 & 2.1\\times 10^{-2} & 3.6\\times 10^{-2} & mol^{-1}\\,s^{-1} \\\\\n",
    "k_2 & 1.5\\times 10^{-2} & 4.5\\times 10^{-2} & mol^{-1}\\,s^{-1} \\\\\n",
    "k_3 & 1.2\\times 10^{-4} & 2.6\\times 10^{-4} & s^{-1}  \n",
    "\\end{array}\n",
    "\\end{aligned}\n",
    "$$\n",
    "\n",
    "The volume of the CSTR is $1\\,$m$^3$ and the inlet and outlet flow rate are $0.001\\,$m$^3\\,$s$^{-1}$. The inlet contains the components A and B, with $c_{A,i}=0.5\\,$M and a varying $\\gamma=c_{B,i}/c_{A,i}$. "
   ]
  },
  {
   "cell_type": "markdown",
   "id": "78ee1909",
   "metadata": {},
   "source": [
    "## Part a)\n",
    "\n",
    "Derive the system of governing equations."
   ]
  },
  {
   "cell_type": "markdown",
   "id": "9f1bc2d3",
   "metadata": {},
   "source": [
    "The mass balance equations are derived in the same manner as in the lectures with the addition of an additional equation for the concentration of component E\n",
    "\\begin{align*}\n",
    "0 &= F\\left(c_{A,i} - c_A\\right) - V (k_1 c_A c_B + k_3 c_A) \\\\\n",
    " 0 &= F\\left(c_{B,i} - c_B\\right) - V (k_1 c_A c_B + k_2 c_C c_B)  \\\\\n",
    " 0 &= -F c_C + V(k_1 c_A c_B - k_2 c_C c_B) \\\\\n",
    " 0 &= -F c_D + V k_2 c_C c_B \\\\\n",
    " 0 &= -F c_E + V k_3 c_A\n",
    "\\end{align*}\n",
    "Each of the five nonlinear equations is written so that at a solution it equates to zero."
   ]
  },
  {
   "cell_type": "markdown",
   "id": "efdff2e1",
   "metadata": {},
   "source": [
    "## Part b)\n",
    "\n",
    "\n",
    "Assuming isothermal operation and no volume change, plot the conversion of A as a function of temperature and $\\gamma$.\n",
    "\n",
    "---\n",
    "\n",
    "This function in the following cell calculates and returns the left hand side of the nonlinear algebraic equation system, i.e. $\\mathbf{y}=[y[0], y[1], y[2], y[3], y[4]]$. At the solution $\\mathbf{x}^*$ of the nonlinear algebraic equation system the array $\\mathbf{y}$ is zero."
   ]
  },
  {
   "cell_type": "code",
   "execution_count": null,
   "id": "e3e2e817",
   "metadata": {},
   "outputs": [],
   "source": [
    "import numpy as np\n",
    "# CSTR right hand side function\n",
    "def CSTR_rhs(x, parameters):\n",
    "    y = np.zeros(5)\n",
    "    # Assign parameterseters to local variables\n",
    "    F = parameters[0]\n",
    "    V = parameters[1]\n",
    "    c_Ai = parameters[2]\n",
    "    c_Bi = parameters[3]\n",
    "    c_Ci = parameters[4] \n",
    "    c_Di = parameters[5]\n",
    "    c_Ei = parameters[6]\n",
    "    k1 = parameters[7]\n",
    "    k2 = parameters[8]\n",
    "    k3 = parameters[9]\n",
    "    \n",
    "    # Define the nonlinear equation system\n",
    "    y[0] = F*(c_Ai - x[0]) - V * (k1*x[0]*x[1] + k3*x[0])\n",
    "    y[1] = F*(c_Bi - x[1]) - V * (k1*x[0]*x[1] + k2*x[2]*x[1])\n",
    "    y[2] = F*(c_Ci - x[2]) + V * (k1*x[0]*x[1] - k2*x[2]*x[1])\n",
    "    y[3] = F*(c_Di - x[3]) + V * k2*x[2]*x[1]\n",
    "    y[4] = F*(c_Ei - x[4]) + V * k3*x[0]\n",
    "    \n",
    "    return y"
   ]
  },
  {
   "cell_type": "markdown",
   "id": "39f3cc35",
   "metadata": {},
   "source": [
    "The following cell loops over two temperatures and values of $\\gamma$ from $0$ to $4$. For each value of $\\gamma$ the parameter array and the initial guess is set before solving the nonlinear algebraic equation system defined by the CSTR_rhs function. It then stores the value of $\\gamma$ and the concentration of A in an array for later plotting. "
   ]
  },
  {
   "cell_type": "code",
   "execution_count": null,
   "id": "f1c9ee0a",
   "metadata": {},
   "outputs": [],
   "source": [
    "# Solve CSTR 2nd order reactions\n",
    "from scipy.optimize import fsolve\n",
    "\n",
    "# Lists to store the concentration and gamma values\n",
    "cA_all = []\n",
    "Ts = [298, 315]\n",
    "\n",
    "for T in Ts:\n",
    "    cA = []\n",
    "    gamma = []\n",
    "    for ga in np.linspace(0, 4, 10):   # Loop over different gamma values\n",
    "        # Parameter array: F, V, c_Ai, c_Bi, c_Ci, c_Di, c_Ei, k1, k2, k3\n",
    "\n",
    "        ## Comment out one of the two parameter arrays\n",
    "        if T == 298:\n",
    "            parameters = [0.001, 1, 0.5, ga*0.5, 0, 0, 0, 2.1e-2, 1.5e-2, 1.2e-4]\n",
    "        elif T == 315:\n",
    "            parameters = [0.001, 1, 0.5, ga*0.5, 0, 0, 0, 3.6e-2, 4.5e-2, 2.6e-4]\n",
    "        else:\n",
    "            print(\"T needs to be either 298K or 315K\")\n",
    "            break\n",
    "\n",
    "        # Initial guess\n",
    "        x0 = [0.5/(1+2*ga), ga*0.5/(1+2*ga), 0, 0, 0]\n",
    "\n",
    "        # Solve\n",
    "        x = fsolve(CSTR_rhs, x0, args=(parameters))\n",
    "\n",
    "        # Store gamma and c_A\n",
    "        gamma.append(ga)\n",
    "        cA.append(x[0])\n",
    "    \n",
    "    cA_all.append(cA)"
   ]
  },
  {
   "cell_type": "markdown",
   "id": "6414a4b1",
   "metadata": {},
   "source": [
    "The following cell plots the output for both temperatures against the values of $\\gamma$."
   ]
  },
  {
   "cell_type": "code",
   "execution_count": null,
   "id": "d09dc8b2",
   "metadata": {},
   "outputs": [],
   "source": [
    "import matplotlib.pyplot as plt\n",
    "\n",
    "for cA, T in zip(cA_all, Ts):\n",
    "    cA = np.array(cA)\n",
    "\n",
    "    plt.plot(gamma, 1 - cA/0.5)\n",
    "    plt.xlabel('$\\gamma$')\n",
    "    plt.ylabel('Conversion of A')\n",
    "    plt.title('Conversion of A for various concentrations at T={}K'.format(T))\n",
    "    plt.show()"
   ]
  },
  {
   "cell_type": "markdown",
   "id": "daec037c",
   "metadata": {},
   "source": [
    "The figures show that the conversion of A is increased at the higher temperature due to the increase in reaction rates. "
   ]
  },
  {
   "cell_type": "markdown",
   "id": "2995e675",
   "metadata": {},
   "source": [
    "## Part c)\n",
    "\n",
    "What influence does the flow rate have on the conversion of A? Nondimensionalise the equation system to help in your analysis.\n",
    "\n",
    "---\n",
    "\n",
    "As the characteristic value for the concentrations we pick the input concentration of component $A$ which is $c_{A,i}$. Using the nondimensionalisations $c_A = c_{A,i}\\tilde{c}_A$, $c_B = c_{A,i}\\tilde{c}_B$, $c_C = c_{A,i}\\tilde{c}_C$, $c_D = c_{A,i}\\tilde{c}_D$ and $c_E = c_{A,i}\\tilde{c}_E$ we get\n",
    "\\begin{align*}\n",
    "0 &= \\left(1 - \\tilde{c}_A\\right) - \\frac{V}{F} (k_1 c_{A,i}\\tilde{c}_A \\tilde{c}_B + k_3 \\tilde{c}_A) \\\\\n",
    " 0 &= \\left(\\gamma - \\tilde{c}_B\\right) - \\frac{V c_{A,i}}{F} (k_1 \\tilde{c}_A \\tilde{c}_B + k_2 \\tilde{c}_C \\tilde{c}_B)  \\\\\n",
    " 0 &= - \\tilde{c}_C + \\frac{V c_{A,i}}{F}(k_1 \\tilde{c}_A \\tilde{c}_B - k_2 \\tilde{c}_C \\tilde{c}_B) \\\\\n",
    " 0 &= - \\tilde{c}_D + \\frac{V k_2 c_{A,i}}{F} \\tilde{c}_C \\tilde{c}_B \\\\\n",
    " 0 &= - \\tilde{c}_E + \\frac{V k_3}{F} \\tilde{c}_A\n",
    "\\end{align*}\n"
   ]
  },
  {
   "cell_type": "markdown",
   "id": "f5edf47e",
   "metadata": {},
   "source": [
    "All the remaining parameters and in particular the two parameters influencing the conversion of A are inverse proportional to the flow rate $F$. Thus when we increase the flow rate the conversion of A is reduced while for a decrease of the flow rate the conversion is increased. The following plot shows the conversion for $F=0.0001\\,$m$^3\\,$s$^{-1}$. For values of $\\gamma>2$ the conversion is almost complete."
   ]
  },
  {
   "cell_type": "markdown",
   "id": "e092000b",
   "metadata": {},
   "source": [
    "*Remark:* You can test this by changing the flow rate and re-plotting the conversion of component $A$."
   ]
  },
  {
   "cell_type": "code",
   "execution_count": null,
   "id": "6388de91",
   "metadata": {},
   "outputs": [],
   "source": []
  }
 ],
 "metadata": {
  "kernelspec": {
   "display_name": "Python 3",
   "language": "python",
   "name": "python3"
  },
  "language_info": {
   "codemirror_mode": {
    "name": "ipython",
    "version": 3
   },
   "file_extension": ".py",
   "mimetype": "text/x-python",
   "name": "python",
   "nbconvert_exporter": "python",
   "pygments_lexer": "ipython3",
   "version": "3.9.6"
  }
 },
 "nbformat": 4,
 "nbformat_minor": 5
}
