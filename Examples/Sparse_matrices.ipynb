{
 "cells": [
  {
   "cell_type": "markdown",
   "id": "af3dda9f",
   "metadata": {},
   "source": [
    "# Sparse matrices"
   ]
  },
  {
   "cell_type": "code",
   "execution_count": null,
   "id": "1c281e20",
   "metadata": {},
   "outputs": [],
   "source": [
    "import numpy as np\n",
    "from scipy.sparse import csr_matrix\n",
    "A = csr_matrix([[1, 2, 0], [0, 0, 3], [4, 0, 5]])\n",
    "v = np.array([1, 0, -1])\n",
    "A.dot(v)\n",
    "\n",
    "# matplotlib.pyplot.spy"
   ]
  },
  {
   "cell_type": "markdown",
   "id": "6425c8ea",
   "metadata": {},
   "source": [
    "## Matlab code"
   ]
  },
  {
   "cell_type": "code",
   "execution_count": null,
   "id": "2acf29d5",
   "metadata": {},
   "outputs": [],
   "source": [
    "% Lab2_sparse - Sparse, banded matrix example from Beers\n",
    "\n",
    "N = 500;\n",
    "\n",
    "%% Inefficient initialisation of the sparse matrix\n",
    "tic;\n",
    "A = spalloc(N, N, 3*N);\n",
    "A(1,1) = 2;\n",
    "A(1,2) = -1;\n",
    "for k = 2:(N-1),\n",
    "    A(k, k-1) = -1;\n",
    "    A(k, k) = 2;\n",
    "    A(k, k+1) = -1;\n",
    "end;\n",
    "A(N, N-1) = -1;\n",
    "A(N, N) = 2;\n",
    "toc\n",
    "\n",
    "%% More efficient initialisation\n",
    "tic\n",
    "A2 = spalloc(N, N, 3*N);\n",
    "v = ones(N, 1);\n",
    "A2 = spdiags([-v 2*v -v], -1:1, N, N);\n",
    "toc\n",
    "\n",
    "%% Non-sparse matrix\n",
    "A3 = zeros(N,N);\n",
    "A3(1,1) = 2;\n",
    "A3(1,2) = -1;\n",
    "for k = 2:(N-1),\n",
    "    A3(k, k-1) = -1;\n",
    "    A3(k, k) = 2;\n",
    "    A3(k, k+1) = -1;\n",
    "end;\n",
    "A3(N, N-1) = -1;\n",
    "A3(N, N) = 2;\n",
    "\n",
    "%% Time solution of linear algebraic equation system\n",
    "b = ones(N, 1);\n",
    "\n",
    "t_sparse = 1000;\n",
    "t_dense = 1000;\n",
    "for i = 1:3,\n",
    "    tic;\n",
    "    x = A2\\b;\n",
    "    t_sparse = min(t_sparse, toc);\n",
    "    \n",
    "    tic;\n",
    "    x_dense = A3\\b;\n",
    "    t_dense = min(t_dense, toc);\n",
    "end;\n",
    "t_sparse\n",
    "t_dense\n",
    "max(x - x_dense)\n",
    "    \n",
    "\n"
   ]
  }
 ],
 "metadata": {
  "kernelspec": {
   "display_name": "Python 3 (ipykernel)",
   "language": "python",
   "name": "python3"
  },
  "language_info": {
   "codemirror_mode": {
    "name": "ipython",
    "version": 3
   },
   "file_extension": ".py",
   "mimetype": "text/x-python",
   "name": "python",
   "nbconvert_exporter": "python",
   "pygments_lexer": "ipython3",
   "version": "3.10.13"
  }
 },
 "nbformat": 4,
 "nbformat_minor": 5
}
